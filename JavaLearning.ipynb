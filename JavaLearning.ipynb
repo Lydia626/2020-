{
 "cells": [
  {
   "cell_type": "markdown",
   "metadata": {},
   "source": [
    "javac后面跟的是java文件的文件名，例如： HelloWorld.java.该命令用于将java源文件编译为class字节码文件，如：javac HelloWorld.java\n",
    "运行javac命令后，如果成功编译没有错误的话，会出现一个HelloWorld.class的文件。\n",
    "java后面跟着的是java文件中的类名，例如HelloWorld就是类名，如：java HelloWorld。\n",
    "IDE 是 Intergreated Development Enviroment 的缩写，中文称为集成开发环境，用来表示辅助程序员开发的应用软件，使他们的一个总称。\n",
    "####  注意事项:\n",
    "1.大小写敏感\n",
    "2.类名首字母应该大写\n",
    "3.方法名都应该以小写字母开头\n",
    "4.源文件名必须和类名一至\n",
    "5.主方法入口：所有的java程序由 public static void main  (String[] args)方法开始执行 "
   ]
  },
  {
   "cell_type": "code",
   "execution_count": null,
   "metadata": {},
   "outputs": [],
   "source": [
    "\n",
    "public class Hello{\n",
    "    public static void main(String[] args){\n",
    "        System.out.println(\"Hello,world!\")\n",
    "    }\n",
    "}"
   ]
  },
  {
   "cell_type": "code",
   "execution_count": null,
   "metadata": {},
   "outputs": [],
   "source": [
    "    public static void main(String[] args){\n",
    "        ... //返回值是void表示没有任何返回值\n",
    "    }"
   ]
  },
  {
   "cell_type": "markdown",
   "metadata": {},
   "source": [
    "我们定义了一个名为main的方法。方法是可执行的代码块，一个方法除了方法名mian,还有用（）括起来的方法参数"
   ]
  },
  {
   "cell_type": "markdown",
   "metadata": {},
   "source": [
    "类名要求：\n",
    "类名必须以英文字母开头，后接字母，数字和下划线的组合\n",
    "习惯以大写字母开头\n",
    "\n",
    "#### 注意char类型使用单引号 ' ，且仅有一个字符，要和双引号\"的字符区分开\n",
    "\n",
    "#### String s = \"hello\"\n",
    "\n",
    "final double PI = 3.14 //PI定义成是一个常量\n",
    "\n",
    "注意溢出问题！\n",
    "\n",
    "位运算是按位进行与、或、非和异或的运算。\n",
    "\n",
    "与运算的规则是，必须两个数同时为1，结果才为1：\n",
    "与 & 或 | 非 n=~0;//1\n",
    "异或运算的规则是，0和1互换：\n",
    "n = ~0://1"
   ]
  },
  {
   "cell_type": "code",
   "execution_count": null,
   "metadata": {},
   "outputs": [],
   "source": [
    "NaN 表示 Not a Number\n",
    "Infinity 表示无穷大\n",
    "-Infinity 表示负无穷大"
   ]
  },
  {
   "cell_type": "markdown",
   "metadata": {},
   "source": [
    "关系运算符的优先级从高到低依次是：\n",
    "!\n",
    "> >= < <=\n",
    "== !=\n",
    "&& \n",
    "||\n",
    "\n",
    "短路运算，后面的值都不再计算！\n",
    "三元运算符：\n",
    "b ? x : y\n",
    "如果用+连接字符串和其他数据类型，会将其他数据类型先自动转型为字符串，再连接。"
   ]
  },
  {
   "cell_type": "markdown",
   "metadata": {},
   "source": [
    "Unicode是字符集的，它只规定了符号的二进制代码，却没有规定这个二进制代码应该如何存储，UTF-8是编码规则，使用来实现Unicode字符集的二进制代码如何存储的。\n",
    "编码字符集（Unicode字符集）:是一个字符集，它为每一个字符分配一个唯一数字"
   ]
  },
  {
   "cell_type": "markdown",
   "metadata": {},
   "source": [
    "public class Main {\n",
    "    public static void main(String[] args){\n",
    "        //5位同学的成绩：\n",
    "        int[] ns = new int[5];\n",
    "        ns[0] = 68;\n",
    "        ns[1] = 79;\n",
    "        ns[2] = 91;\n",
    "        ns[3] = 85;\n",
    "        ns[4] = 62;\n",
    "    }\n",
    "}\n",
    "以上是一个java数组 数组一旦创建后，大小就不可改变。\n",
    "int[] ns = new int[] {68, 79, 91, 85, 62}\n",
    "可简写\n",
    "int[] ns = {68, 79, 91, 85, 62};\n",
    "数组元素可以是值类型（如int）或引用类型（如String），但数组本身是引用类型；"
   ]
  },
  {
   "cell_type": "markdown",
   "metadata": {},
   "source": [
    "System.out.println() print line输出后换行\n",
    "System.out.print() 输出后不换行\n",
    "格式化输出\n",
    "System.out.printf(\"%.4f\\n\",d)；\n",
    "%d 格式化输出整数\n",
    "%x 格式化输出十六进制整数\n",
    "%f 格式化输出浮点数\n",
    "%e 格式化输出科学计数法表示的浮点数\n",
    "%s 格式化字符串"
   ]
  },
  {
   "cell_type": "code",
   "execution_count": null,
   "metadata": {},
   "outputs": [],
   "source": [
    "import java.util.Scanner;//想要输入首先要导入这个包\n",
    "public class Main {\n",
    "    public static void main(String[] args){\n",
    "        Scanner scanner = new Scanner(System.in);//创建Scanner对象并传入System.in\n",
    "        System.out.print(\"Input your name: \")\n",
    "        String name = scanner.nextInt();//读取一行输入并获取字符串\n",
    "        System.out.print(\"Please input your age:\")\n",
    "        int age = scanner.nextInt();//读取一行输入并获取整数\n",
    "        System.out.printf(\"Hi,%s,you are %d\\n\",name,age);\n",
    "    }\n",
    "}\n",
    "\n",
    "引用类型判断内容相等要使用equals(),注意避免NullPointerException"
   ]
  },
  {
   "cell_type": "markdown",
   "metadata": {},
   "source": [
    "不要忘记break\n",
    "不要忘记default\n"
   ]
  },
  {
   "cell_type": "markdown",
   "metadata": {},
   "source": [
    "public class Main{\n",
    "    public static void main(String[] args){\n",
    "        String fruit = \"apple\";\n",
    "        switch(fruit){\n",
    "        case \"apple\":\n",
    "            System.out.println(\"Selected apple\");\n",
    "            break;\n",
    "        case \"pear\":\n",
    "            System.out.println(\"Selected pear\");\n",
    "            break;\n",
    "        case \"mango\":\n",
    "            System.out.println(\"Selected mango\");\n",
    "            break;\n",
    "        default:\n",
    "            System.out.println(\"No fruit selected\");\n",
    "            break;\n",
    "        }\n",
    "    }\n",
    "}"
   ]
  },
  {
   "cell_type": "code",
   "execution_count": null,
   "metadata": {},
   "outputs": [],
   "source": [
    "public class Main{\n",
    "    public static void main(String[] args){\n",
    "        int sum == 0;\n",
    "        int n = 1;\n",
    "        while (n <= 100){\n",
    "            sum = sum + n;\n",
    "            n ++;\n",
    "        }\n",
    "        System.out.println(sum);\n",
    "    }\n",
    "}"
   ]
  },
  {
   "cell_type": "code",
   "execution_count": null,
   "metadata": {},
   "outputs": [],
   "source": [
    "sum += sum//注：+= 要相连\n",
    "while 循环 和 do while 循环\n",
    "public class Hello{\n",
    "    public static void main(String[] args){\n",
    "        int sum = 0;\n",
    "        int m = 20;\n",
    "        int n = 100;\n",
    "        do{\n",
    "            sum = sum + m;\n",
    "            m ++;\n",
    "        }while (m <= n);\n",
    "        System.out.println(sum);\n",
    "    }\n",
    "}"
   ]
  },
  {
   "cell_type": "markdown",
   "metadata": {},
   "source": [
    "public class Hello{\n",
    "    public static void main(String[] args){\n",
    "        int[] ns = { 1, 4, 9, 16, 25};\n",
    "        for (int i=0; i<ns.length; i++){\n",
    "            System.out.println(ns[i]);\n",
    "        }\n",
    "    }\n",
    "}\n",
    "\n",
    "//注：int i=0 最好放在for()括号里面，因为这样"
   ]
  },
  {
   "cell_type": "code",
   "execution_count": null,
   "metadata": {},
   "outputs": [],
   "source": [
    "对比一下 for each"
   ]
  },
  {
   "cell_type": "code",
   "execution_count": null,
   "metadata": {},
   "outputs": [],
   "source": [
    "public class Main{\n",
    "    public static void main(String[] args){\n",
    "        int[] ns = { 1, 4, 9, 16, 25};\n",
    "        for (int n : ns){\n",
    "            System.out.println(n);\n",
    "        }\n",
    "    }\n",
    "}"
   ]
  },
  {
   "cell_type": "markdown",
   "metadata": {},
   "source": [
    "对数组的操作:\n",
    "遍历\n",
    "排序"
   ]
  },
  {
   "cell_type": "markdown",
   "metadata": {},
   "source": [
    "//遍历数组 方法一：使用标准的for循环\n",
    "public class Main{\n",
    "    public static void main(String[] args){\n",
    "        int[] ns = { 1, 4, 9, 16, 25 };\n",
    "        for (int i=0; i<ns.length; i++){\n",
    "            int n = ns[i];\n",
    "            System.out.println(n);\n",
    "        }\n",
    "    } \n",
    "}\n"
   ]
  },
  {
   "cell_type": "markdown",
   "metadata": {},
   "source": [
    "public class Hello{\n",
    "    public static void main(String[] args){\n",
    "        int[] ns = { 1, 4, 9, 16, 25};\n",
    "        for (int n : ns){\n",
    "            System.out.println(n);\n",
    "        }\n",
    "    }\n",
    "}"
   ]
  },
  {
   "cell_type": "markdown",
   "metadata": {},
   "source": [
    "object oriented programming\n",
    "面向对象的基本概念：\n",
    "类\n",
    "实例\n",
    "方法\n",
    "面向对象的实现方式：\n",
    "继承\n",
    "多态\n",
    "Java语言本身提供的机制，包括：\n",
    "package\n",
    "classpath\n",
    "jar\n",
    "以及Java标准库提供的核心类，包括：\n",
    "字符串\n",
    "包装类型\n",
    "JavaBean\n",
    "枚举\n",
    "常用工具类\n",
    "通过本章的学习，完全可以理解并掌握面向对象的基本思想，但不保证能找到对象。\n"
   ]
  },
  {
   "cell_type": "markdown",
   "metadata": {},
   "source": [
    "复习：\n",
    "java：这个可执行程序其实就是JVM，运行Java程序，就是启动JVM，然后让JVM执行指定的编译后的代码；\n",
    "javac：这是Java的编译器，它用于把Java源码文件（以.java后缀结尾）编译为Java字节码文件（以.class后缀结尾）；\n",
    "jar：用于把一组.class文件打包成一个.jar文件，便于发布；\n",
    "javadoc：用于从Java源码中自动提取注释并生成文档；\n",
    "jdb：Java调试器，用于开发阶段的运行调试。"
   ]
  },
  {
   "cell_type": "markdown",
   "metadata": {},
   "source": [
    "#### field\n",
    "\n",
    "一、field 类位于 java.lang.reflect包下。在java反射中field类描述的是类的属性信息。\n",
    "二、\n",
    "\n",
    "getField(String name)： 获取类特定的方法，name参数指定了属性的名称\n",
    "Class.getFields(): 获取类中public类型的属性，返回一个包含某些 Field 对象的数组，该数组包含此 Class 对象所表示的类或接口的所有可访问公共字段\n",
    "getDeclaredField(String name): 获取类特定的方法，name参数指定了属性的名称\n",
    "getDeclaredFields(): 获取类中所有的属性(public、protected、default、private)，但不包括继承的属性，返回 Field 对象的一个数组\n",
    "\n",
    "\n",
    "### java方法\n",
    "以 System.out.println() 为例：\n",
    "println()是一个方法\n",
    "System是系统类\n",
    "out是标准输出对象\n",
    "调用系统类System中的标准输出对象out中的方法println()\n",
    "#### 什么是方法？\n",
    "Java 方法是语句的集合，他们在一起执行一个功能。\n",
    "\n",
    "方法是解决一类问题的步骤的有序组合\n",
    "方法包含于类或对象中\n",
    "方法在程序中被创建，在其他地方被引用\n",
    "\n",
    "#### 方法优点：\n",
    "1.使程序变得更简短而清晰\n",
    "2.有利于程序维护\n",
    "3.可以提高程序开发的效率\n",
    "4.提高了代码的重用性\n",
    "\n",
    "#### 方法的命名规则：\n",
    "1.方法的名字的第一个单词应该以小写字母做开头，后面的单词则用大写字母开头，不使用连接符。 eg: addPerson \n",
    "2.下划线可能出现在JUnit测试方法名称中用以分隔名称的逻辑组件。一个典型的模式是：test<MethodUnderTest>_<state> eg: testPop_emptyStack\n"
   ]
  },
  {
   "cell_type": "markdown",
   "metadata": {},
   "source": [
    "##### void\n",
    "void 的意思是空，是java中的关键字。void 在方法申明时表示没有返回值就行（无返回值，但可以在方法中用return；来退出方法）\n",
    "\n",
    "对比参考C语言中的定义;\n",
    "有一类函数，调用后并不需要向调用者返回函数值，这种函数可以定义为空函数，其类型的说明符为void"
   ]
  },
  {
   "cell_type": "code",
   "execution_count": null,
   "metadata": {},
   "outputs": [],
   "source": [
    "class Person{\n",
    "    private String name;\n",
    "    \n",
    "    public String getName（）{\n",
    "        return name;\n",
    "    }\n",
    "}\n",
    "\n",
    "class Person{\n",
    "    private String name;\n",
    "    \n",
    "    public void setName(String name){\n",
    "        this.name = name;//前面的this不可少，少了就变成局部变量name\n",
    "    }\n",
    "}"
   ]
  },
  {
   "cell_type": "markdown",
   "metadata": {},
   "source": [
    "#### 方法参数\n",
    "方法可以包括0个或者任意个参数。方法参数用于接收传递给方法的变量值。调用方法时，必须严格按照参数的定义--传递。"
   ]
  },
  {
   "cell_type": "code",
   "execution_count": null,
   "metadata": {},
   "outputs": [],
   "source": [
    "class Person{\n",
    "    ...\n",
    "    public void setNameAndAge(String name, int age){\n",
    "        ...\n",
    "    }\n",
    "}\n",
    "//调用这个setNameAndAge()方法时，必须有两个参数，且第一个参数必须为String,第二个参数必须为int:\n",
    "Person ming = new Person();\n",
    "ming.setNameAndAge(\"Xiao Ming\",23);"
   ]
  },
  {
   "cell_type": "code",
   "execution_count": null,
   "metadata": {},
   "outputs": [],
   "source": [
    "class Group{\n",
    "    private String[] names;\n",
    "    \n",
    "    public void setNames(String... names){\n",
    "        this.names = names;\n",
    "    }\n",
    "}\n",
    "//可变参数用 类型... 定义，可变参数相当于数组类型\n",
    "\n",
    "Group g = new Group();\n",
    "g.setNames(\"Xaio\")"
   ]
  },
  {
   "cell_type": "markdown",
   "metadata": {},
   "source": [
    "基本类型参数的传递，是调用方值的复制。双方各自的后续修改，互不影响。"
   ]
  },
  {
   "cell_type": "code",
   "execution_count": null,
   "metadata": {},
   "outputs": [],
   "source": [
    "public class Mian{\n",
    "    public static void main(String[] args){\n",
    "        Person p = new Person();\n",
    "        String[] fullname = new String[]{\"Homer\",\"Simpson\"};\n",
    "        p.setName(fullname);//传入fullname数组\n",
    "        System.out.println(p.getName());\n",
    "        fullname[0] = \"Bart\";\n",
    "        System.out.println(p.getName());\n",
    "    }\n",
    "}\n",
    "class Person{\n",
    "    private String[] name;\n",
    "    \n",
    "    public String getName(){\n",
    "        return this.name[0] + \" \" + this.name[1];\n",
    "    }\n",
    "    \n",
    "    public void setName(String[] name){\n",
    "        this.name = name;\n",
    "    }\n",
    "}"
   ]
  },
  {
   "cell_type": "markdown",
   "metadata": {},
   "source": [
    "setName()的参数是一个数组。一开始，把fullname数组传进去，然后修改fullname数组的内容，结果发现，实例p的字段p.name也被修改；\n",
    "引用类型的参数传递，调用方的变量，和接收方的参数变量，指向的是同一个对象。双方任意一方对这个对象做出修改，都会影响对方(因为指向的是同一个对象)"
   ]
  },
  {
   "cell_type": "code",
   "execution_count": null,
   "metadata": {},
   "outputs": [],
   "source": [
    "//构造方法的实例\n",
    "public class Main{\n",
    "    public staticvoid main(String args[]){\n",
    "        MyClass t1 = new MyClass(10);\n",
    "        MyClass t2 = new MyClass(20);\n",
    "        System.out.println(t1.x + \" \" + t2.x);\n",
    "    }\n",
    "}\n",
    "class MyClass{\n",
    "    int x;\n",
    "    MyClass(int i){\n",
    "        x = i;\n",
    "    }\n",
    "}"
   ]
  },
  {
   "cell_type": "markdown",
   "metadata": {},
   "source": [
    "##### 可变参数\n",
    "typeName... paramterName\n",
    "在方法声明中，在指定参数类型后加一个省略号（...）。\n",
    "一个方法只能指定一个可变参数，他必须是方法中的最后一个参数。任何普通的参数声明必须在他之前声明。"
   ]
  },
  {
   "cell_type": "code",
   "execution_count": null,
   "metadata": {},
   "outputs": [],
   "source": [
    "public class VarargsDemo{\n",
    "    public static void main(String args[]){\n",
    "        //调用可变参数的方法\n",
    "        printMax(34,5,234,4,23,1,341.4);\n",
    "        printMax(new double[]{1, 2, 3});\n",
    "    }\n",
    "    \n",
    "    public static void printMax( double... numbers){\n",
    "        if (numbers.length == 0){\n",
    "            System.out.println(\"No argument passed\");\n",
    "            return;\n",
    "        }\n",
    "        \n",
    "        double result = numbers[0];\n",
    "        \n",
    "        for (int i =1; i < numbers.length; i++){\n",
    "            if (numbers[i] > result){\n",
    "                result = numbers[i];\n",
    "            }\n",
    "        }\n",
    "        System.out.println(\"The max value is \"+ result);\n",
    "    }\n",
    "}"
   ]
  },
  {
   "cell_type": "markdown",
   "metadata": {},
   "source": [
    "普通方法 构造方法 这两个不是一回事啊！注意吧！用点心吧！"
   ]
  },
  {
   "cell_type": "code",
   "execution_count": null,
   "metadata": {},
   "outputs": [],
   "source": [
    "s"
   ]
  },
  {
   "cell_type": "markdown",
   "metadata": {},
   "source": [
    "构造方法的名称就是类名。构造方法的参数没有限制，在方法内部，也可以编写任意语句，但是，和普通方法相比，构造方法没有返回值（也没有void），调用构造方法，必须用new操作符。"
   ]
  },
  {
   "cell_type": "markdown",
   "metadata": {},
   "source": [
    "### 介绍 Comparator\n",
    "1. compare 正常比较\n",
    "2 naturualOrder -自然比较，根据实体类型定义的Comparable\n",
    "3.nullsFirst , nullsLast -将null值放在第一个或最后一个\n",
    "4.comparing, comparingLong, comparingInt, comaringDouble -常用比较方法，可以指定参数类型\n",
    "5.reserved, reverseOrder -反转\n",
    "6.thenComparing, thenComparingDouble, thenComparingInt, thenComparingLong -多次比较\n",
    "\n",
    "### java ArrayList\n",
    "ArrayList是一个类，这个类有一个数组参数elementData, ArrayList集合中的元素就是保存在这个类中。\n"
   ]
  },
  {
   "cell_type": "markdown",
   "metadata": {},
   "source": [
    "# 队列&栈\n",
    "## 队列：先入先出的数据结构\n",
    "插入（insert）操作也称作入队（enqueue），新元素始终被添加在队列的末尾。 删除（delete）操作也被称为出队（dequeue)。 你只能移除第一个元素。\n"
   ]
  }
 ],
 "metadata": {
  "kernelspec": {
   "display_name": "Python 3",
   "language": "python",
   "name": "python3"
  },
  "language_info": {
   "codemirror_mode": {
    "name": "ipython",
    "version": 3
   },
   "file_extension": ".py",
   "mimetype": "text/x-python",
   "name": "python",
   "nbconvert_exporter": "python",
   "pygments_lexer": "ipython3",
   "version": "3.7.6"
  }
 },
 "nbformat": 4,
 "nbformat_minor": 4
}
